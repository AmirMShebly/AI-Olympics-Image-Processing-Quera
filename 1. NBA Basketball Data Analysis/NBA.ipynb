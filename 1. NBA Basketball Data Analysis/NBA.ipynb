{
 "cells": [
  {
   "cell_type": "code",
   "execution_count": 1,
   "id": "d04f2813",
   "metadata": {},
   "outputs": [],
   "source": [
    "import os\n",
    "import numpy as np\n",
    "import pandas as pd"
   ]
  },
  {
   "cell_type": "code",
   "execution_count": 2,
   "id": "f78380ff",
   "metadata": {},
   "outputs": [],
   "source": [
    "data = pd.read_csv(\"NBA2000-2009.csv\")"
   ]
  },
  {
   "cell_type": "code",
   "execution_count": 3,
   "id": "7adcad4f",
   "metadata": {},
   "outputs": [],
   "source": [
    "data.head()"
   ]
  },
  {
   "cell_type": "code",
   "execution_count": 4,
   "id": "b05d148a",
   "metadata": {},
   "outputs": [],
   "source": [
    "data.info()"
   ]
  },
  {
   "cell_type": "code",
   "execution_count": 5,
   "id": "cea7ed2f",
   "metadata": {},
   "outputs": [],
   "source": [
    "data.describe()"
   ]
  },
  {
   "cell_type": "code",
   "execution_count": 6,
   "id": "cc7e5820",
   "metadata": {},
   "outputs": [],
   "source": [
    "data['REB'] = data['OREB'] + data['DREB']\n",
    "rules = [\n",
    "    data['PTS'] >= 10,\n",
    "    data['REB'] >= 10,\n",
    "    data['AST'] >= 10,\n",
    "    data['STL'] >= 10,\n",
    "    data['BLK'] >= 10,\n",
    "]\n",
    "data['double_double_rules'] = sum(rules)\n",
    "double_double = data[data['double_double_rules']>=2]\n",
    "\n",
    "double_double = double_double[['PLAYER','YEAR','PTS','AST','REB','STL','BLK']].sort_values(by=['YEAR', 'PLAYER'])"
   ]
  },
  {
   "cell_type": "code",
   "execution_count": 7,
   "id": "2e45b8f6",
   "metadata": {},
   "outputs": [],
   "source": [
    "double_double.head()"
   ]
  },
  {
   "cell_type": "code",
   "execution_count": 8,
   "id": "673236c3",
   "metadata": {},
   "outputs": [],
   "source": [
    "data['Missed_FG'] = data['FGA'] - data['FGM']\n",
    "data['Missed_FT'] = data['FTA'] - data['FTM']\n",
    "\n",
    "data['VALUE'] = (\n",
    "    data['PTS'] +\n",
    "    data['OREB'] +\n",
    "    data['DREB'] +\n",
    "    data['AST'] +\n",
    "    data['STL'] +\n",
    "    data['BLK'] -\n",
    "    data['TOV'] -\n",
    "    data['Missed_FG'] -\n",
    "    data['Missed_FT']\n",
    ")\n",
    "\n",
    "best_player = data.groupby('PLAYER')['VALUE'].mean().reset_index()\n",
    "best_player['VALUE'] = best_player['VALUE'].round(2)\n",
    "best_player = best_player.sort_values(by=['VALUE','PLAYER'],ascending=[False,True])"
   ]
  },
  {
   "cell_type": "code",
   "execution_count": 9,
   "id": "bb0fc264",
   "metadata": {},
   "outputs": [],
   "source": [
    "best_player.head()"
   ]
  },
  {
   "cell_type": "code",
   "execution_count": 10,
   "id": "502e50bb",
   "metadata": {},
   "outputs": [],
   "source": [
    "team_points = data.groupby(['YEAR','TEAM'])['PTS'].sum().reset_index()\n",
    "max_points = team_points.loc[team_points.groupby('YEAR')['PTS'].idxmax()]\n",
    "max_points['PTS'] = max_points['PTS'].round(2)\n",
    "max_PTS_of_year = max_points.sort_values(by='YEAR')"
   ]
  },
  {
   "cell_type": "code",
   "execution_count": 11,
   "id": "25139882",
   "metadata": {},
   "outputs": [],
   "source": [
    "max_PTS_of_year.head()"
   ]
  }
 ],
 "metadata": {},
 "nbformat": 4,
 "nbformat_minor": 5
}
